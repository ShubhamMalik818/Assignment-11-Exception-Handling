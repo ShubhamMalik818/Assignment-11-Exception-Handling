{
 "cells": [
  {
   "cell_type": "code",
   "execution_count": null,
   "id": "adf3767c-b99a-43ab-8a5e-5e0089a21d7b",
   "metadata": {},
   "outputs": [],
   "source": [
    "1. What is an Exception in python? Write the difference between Exceptions and syntax errors."
   ]
  },
  {
   "cell_type": "code",
   "execution_count": null,
   "id": "3036b142-d4c7-4ec2-82bd-6496605a23a1",
   "metadata": {},
   "outputs": [],
   "source": [
    "ANS- In Python, an exception is an error that occurs during the execution of a program. When an exception occurs, \n",
    "     the program stops running and displays an error message that describes the problem.\n",
    "    \n",
    "     The difference between exceptions and syntax errors is that syntax errors occur when the Python interpreter detects invalid code in a program, \n",
    "    while exceptions occur during the execution of a program when something unexpected happens, such as a division by zero or \n",
    "    an attempt to access a file that does not exist. Syntax errors can be detected and corrected by the programmer before the program is executed, \n",
    "    while exceptions are typically handled by the program at runtime.\n",
    "\n",
    "In summary, exceptions are errors that occur during the execution of a program, while syntax errors are errors that occur when the \n",
    "Python interpreter detects invalid code in a program."
   ]
  },
  {
   "cell_type": "code",
   "execution_count": null,
   "id": "a59c3b69-2f6e-48fd-9069-4c58d138d236",
   "metadata": {},
   "outputs": [],
   "source": [
    "2. What happens when an exception is not handled? Explain with an example."
   ]
  },
  {
   "cell_type": "code",
   "execution_count": null,
   "id": "2620684a-abe9-4685-9aad-04d388468e34",
   "metadata": {},
   "outputs": [],
   "source": [
    "ANS- When an exception is not handled in Python, the program stops running and the exception message is displayed to the user. \n",
    "     This is known as an \"unhandled exception\" or \"uncaught exception\".\n",
    "    \n",
    "In the below example, we are trying to divide a number by 0. Here, this code generates an exception.\n",
    "To handle the exception, we have put the code, result = numerator/denominator inside the try block. \n",
    "Now when an exception occurs, the rest of the code inside the try block is skipped.\n",
    "\n",
    "The except block catches the exception and statements inside the except block are executed.\n",
    "\n",
    "If none of the statements in the try block generates an exception, the except block is skipped.\n",
    "    "
   ]
  },
  {
   "cell_type": "code",
   "execution_count": 1,
   "id": "9747d4f6-6cb1-4de7-9bdb-d6e1cf5db487",
   "metadata": {},
   "outputs": [
    {
     "name": "stdout",
     "output_type": "stream",
     "text": [
      "Error: Denominator cannot be 0.\n"
     ]
    }
   ],
   "source": [
    "try:\n",
    "    numerator = 10\n",
    "    denominator = 0\n",
    "\n",
    "    result = numerator/denominator\n",
    "\n",
    "    print(result)\n",
    "except:\n",
    "    print(\"Error: Denominator cannot be 0.\")\n"
   ]
  },
  {
   "cell_type": "code",
   "execution_count": null,
   "id": "432df0e6-3236-4aa9-9fad-01063521f066",
   "metadata": {},
   "outputs": [],
   "source": [
    "3. Which Python statements are used to catch and handle exceptions? Explain with an example."
   ]
  },
  {
   "cell_type": "code",
   "execution_count": null,
   "id": "3f853ac4-c180-4bc6-a180-bcefc022facb",
   "metadata": {},
   "outputs": [],
   "source": [
    "ANS- Try and except statements are used to catch and handle exceptions in Python. Statements that can raise exceptions \n",
    "     are kept inside the try clause and the statements that handle the exception are written inside except clause.\n",
    "    \n",
    "    \n",
    "In the below example, the user is prompted to enter a number. If the user enters a valid integer, \n",
    "the program divides 10 by the user input and prints the result. If the user enters a zero, a ZeroDivisionError is raised and \n",
    "the message \"Error: Cannot divide by zero\" is printed. If the user enters a non-integer value, a ValueError is raised \n",
    "and the message \"Error: Invalid input. Enter a number\" is printed.\n",
    "\n",
    "By using the try-except block, the program can gracefully handle different types of exceptions without crashing."
   ]
  },
  {
   "cell_type": "code",
   "execution_count": 7,
   "id": "7b49ba85-0597-445b-ad28-3f6d4bbfeb3f",
   "metadata": {},
   "outputs": [
    {
     "name": "stdin",
     "output_type": "stream",
     "text": [
      "Enter a number:  2\n"
     ]
    },
    {
     "name": "stdout",
     "output_type": "stream",
     "text": [
      "The result is: 5.0\n"
     ]
    }
   ],
   "source": [
    "try:\n",
    "    num = int(input(\"Enter a number: \"))\n",
    "    result = 10 / num\n",
    "    print(\"The result is:\", result)\n",
    "except ZeroDivisionError:\n",
    "    print(\"Error: Cannot divide by zero.\")\n",
    "except ValueError:\n",
    "    print(\"Error: Invalid input. Enter a number.\")\n"
   ]
  },
  {
   "cell_type": "code",
   "execution_count": null,
   "id": "7bfcc626-b2ea-473d-91eb-f3df304fa7f1",
   "metadata": {},
   "outputs": [],
   "source": [
    "4. Explain with an example:\n",
    "    1.try and else\n",
    "    2.finally\n",
    "    3.raise"
   ]
  },
  {
   "cell_type": "code",
   "execution_count": null,
   "id": "1ce731d8-252e-4f47-a929-fda6f14f4c96",
   "metadata": {},
   "outputs": [],
   "source": [
    "1. try-else block in Python:\n",
    "    The else block can be used with try-except to specify the code that should be executed if no exception is raised. \n",
    "    The basic syntax of try-else block is:\n",
    "        \n",
    "        try:\n",
    "    # code that may raise an exception\n",
    "except ExceptionType:\n",
    "    # code to handle the exception\n",
    "else:\n",
    "    # code to execute if no exception is raised\n",
    "\n",
    "    \n",
    "Here is an example that demonstrates the use of try-else block:\n",
    "    \n",
    "    try:\n",
    "    num = int(input(\"Enter a number: \"))\n",
    "    result = 10 / num\n",
    "except ZeroDivisionError:\n",
    "    print(\"Error: Cannot divide by zero.\")\n",
    "else:\n",
    "    print(\"The result is:\", result)\n",
    "\n",
    "    \n",
    "In this example, if the user enters a valid integer, the program divides 10 by the user input and prints the result. \n",
    "If the user enters a zero, a ZeroDivisionError is raised and the message \"Error: Cannot divide by zero\" is printed. \n",
    "If no exception is raised, the code inside the else block is executed and the result is printed."
   ]
  },
  {
   "cell_type": "code",
   "execution_count": null,
   "id": "7584b6cb-cadb-4b4e-836a-fd0992071603",
   "metadata": {},
   "outputs": [],
   "source": [
    "2. finally block in Python:\n",
    "    The finally block can be used to specify the code that should be executed regardless of whether an exception is raised or not. \n",
    "    The basic syntax of try-finally block is:\n",
    "    \n",
    "    try:\n",
    "    # code that may raise an exception\n",
    "except ExceptionType:\n",
    "    # code to handle the exception\n",
    "finally:\n",
    "    # code to execute regardless of whether an exception is raised or not\n",
    "\n",
    "    \n",
    "Here is an example that demonstrates the use of try-finally block: \n",
    "    \n",
    "    try:\n",
    "    file = open('example.txt', 'r')\n",
    "    # code to read from the file\n",
    "except FileNotFoundError:\n",
    "    print(\"Error: File not found.\")\n",
    "finally:\n",
    "    file.close()\n",
    "\n",
    "    \n",
    "In this example, the program tries to open a file named example.txt in read mode. If the file is not found, \n",
    "a FileNotFoundError is raised and the message \"Error: File not found\" is printed. Regardless of whether an exception is raised or not, \n",
    "the code inside the finally block is executed to close the file."
   ]
  },
  {
   "cell_type": "code",
   "execution_count": null,
   "id": "b13bf4c8-2064-4c2c-9f5f-4ae36f1bedf6",
   "metadata": {},
   "outputs": [],
   "source": [
    "3. raise statement in Python:\n",
    "The raise statement can be used to raise an exception in Python. The basic syntax of raise statement is:\n",
    "    \n",
    "    raise ExceptionType(\"Error message\")\n",
    "\n",
    "Here is an example that demonstrates the use of raise statement:\n",
    "    \n",
    "    def calculate_average(numbers):\n",
    "    if not numbers:\n",
    "        raise ValueError(\"Empty list\")\n",
    "    total = sum(numbers)\n",
    "    return total / len(numbers)\n",
    "\n",
    "\n",
    "In this example, the calculate_average() function takes a list of numbers as input and calculates the average. If the input list is empty, a ValueError is raised with the message \"Empty list\". The raise statement allows you to raise an exception in a controlled manner and provide an appropriate error message."
   ]
  },
  {
   "cell_type": "code",
   "execution_count": null,
   "id": "ce922c11-01d8-4302-9483-9992b4fba8ec",
   "metadata": {},
   "outputs": [],
   "source": [
    "Q5. What are Custom Exceptions in python? Why do we need Custom Exceptions? Explain with an example"
   ]
  },
  {
   "cell_type": "code",
   "execution_count": null,
   "id": "7a97146b-99fa-4bdf-926e-75544b7f2d09",
   "metadata": {},
   "outputs": [],
   "source": [
    "ANS- In Python, Custom Exceptions are user-defined exceptions that can be created by the programmer to handle specific error conditions in their code. \n",
    "     Custom exceptions can be used when the built-in exceptions provided by Python do not accurately capture the error that needs to be handled.\n",
    "\n",
    "\n",
    "We need Custom Exceptions in Python for the following reasons:\n",
    "    1.Specificity: Custom Exceptions can provide more specific error messages, making it easier to identify the root cause of the error.\n",
    "    2.Readability: Custom Exceptions can make code more readable and self-explanatory, as they indicate what kind of error is being handled.\n",
    "    3.Consistency: Custom Exceptions can provide consistency in error handling across a codebase, making it easier for developers to understand \n",
    "      and maintain the code.\n",
    "\n",
    "Here is an example of how to create and use a Custom Exception in Python:\n",
    "    \n",
    "    class InvalidAgeError(Exception):\n",
    "    pass\n",
    "\n",
    "def validate_age(age):\n",
    "    if age < 18:\n",
    "        raise InvalidAgeError(\"Age must be 18 or above\")\n",
    "    else:\n",
    "        print(\"Age is valid\")\n",
    "\n",
    "try:\n",
    "    validate_age(15)\n",
    "except InvalidAgeError as e:\n",
    "    print(e)\n",
    "\n",
    "    \n",
    "In the above example, we have defined a Custom Exception called InvalidAgeError, which is raised if the age passed to the validate_age function \n",
    "is less than 18. We have defined a simple implementation of the validate_age function to demonstrate the use of the Custom Exception.\n",
    "When we call the validate_age function with an age of 15, it raises the InvalidAgeError exception with the message \"Age must be 18 or above\". \n",
    "We catch this exception using a try-except block and print the exception message.\n",
    "\n",
    "This is just one example of how Custom Exceptions can be used in Python. They can be defined and used in a variety of ways to improve \n",
    "error handling in your code."
   ]
  },
  {
   "cell_type": "code",
   "execution_count": null,
   "id": "9b4e4cd1-ef5d-41b4-af3f-f341540035b5",
   "metadata": {},
   "outputs": [],
   "source": [
    "6. Create a custom exception class. Use this class to handle an exception."
   ]
  },
  {
   "cell_type": "code",
   "execution_count": 3,
   "id": "76520d6d-7a14-4b38-bf77-8f500ddd59c4",
   "metadata": {},
   "outputs": [
    {
     "name": "stdout",
     "output_type": "stream",
     "text": [
      "Error: Cannot calculate square root of a negative number\n"
     ]
    }
   ],
   "source": [
    "class NegativeNumberError(Exception):\n",
    "    \"\"\"Raised when a negative number is encountered\"\"\"\n",
    "    pass\n",
    "\n",
    "def calculate_square_root(num):\n",
    "    if num < 0:\n",
    "        raise NegativeNumberError(\"Cannot calculate square root of a negative number\")\n",
    "    else:\n",
    "        return num ** 0.5\n",
    "\n",
    "try:\n",
    "    result = calculate_square_root(-4)\n",
    "    print(result)\n",
    "except NegativeNumberError as e:\n",
    "    print(\"Error:\", e)\n"
   ]
  },
  {
   "cell_type": "code",
   "execution_count": null,
   "id": "85967005-2b8d-4f99-b66f-12298c3d89db",
   "metadata": {},
   "outputs": [],
   "source": [
    "In the above example, we have defined a custom exception class called NegativeNumberError. This exception is raised \n",
    "if the calculate_square_root function is passed a negative number.\n",
    "The calculate_square_root function checks if the number is negative, and if it is, it raises the \n",
    "NegativeNumberError exception with a message.\n",
    "We then use a try-except block to catch the NegativeNumberError exception. If the exception is raised, we print an error message that \n",
    "includes the exception message.\n",
    "When we run this code, the calculate_square_root function is called with a negative number (-4). This causes the NegativeNumberError exception \n",
    "to be raised, and the error message \"Error: Cannot calculate square root of a negative number\" is printed to the console.\n",
    "If we were to call the calculate_square_root function with a positive number, it would return the square root of that number."
   ]
  }
 ],
 "metadata": {
  "kernelspec": {
   "display_name": "Python 3 (ipykernel)",
   "language": "python",
   "name": "python3"
  },
  "language_info": {
   "codemirror_mode": {
    "name": "ipython",
    "version": 3
   },
   "file_extension": ".py",
   "mimetype": "text/x-python",
   "name": "python",
   "nbconvert_exporter": "python",
   "pygments_lexer": "ipython3",
   "version": "3.10.8"
  }
 },
 "nbformat": 4,
 "nbformat_minor": 5
}
